{
 "cells": [
  {
   "cell_type": "code",
   "execution_count": 1,
   "id": "1193b9db",
   "metadata": {},
   "outputs": [],
   "source": [
    "import pandas as pd\n",
    "import numpy as np\n",
    "import pyspark"
   ]
  },
  {
   "cell_type": "code",
   "execution_count": 2,
   "id": "d1cdde6d",
   "metadata": {},
   "outputs": [],
   "source": [
    "from pyspark.sql import SparkSession"
   ]
  },
  {
   "cell_type": "code",
   "execution_count": 3,
   "id": "0cca340d",
   "metadata": {},
   "outputs": [],
   "source": [
    "spark=SparkSession.builder.appName('practice').getOrCreate()"
   ]
  },
  {
   "cell_type": "code",
   "execution_count": 4,
   "id": "b86e59f5",
   "metadata": {},
   "outputs": [
    {
     "data": {
      "text/html": [
       "\n",
       "            <div>\n",
       "                <p><b>SparkSession - in-memory</b></p>\n",
       "                \n",
       "        <div>\n",
       "            <p><b>SparkContext</b></p>\n",
       "\n",
       "            <p><a href=\"http://DESKTOP-JE2RI4V:4040\">Spark UI</a></p>\n",
       "\n",
       "            <dl>\n",
       "              <dt>Version</dt>\n",
       "                <dd><code>v3.4.1</code></dd>\n",
       "              <dt>Master</dt>\n",
       "                <dd><code>local[*]</code></dd>\n",
       "              <dt>AppName</dt>\n",
       "                <dd><code>practice</code></dd>\n",
       "            </dl>\n",
       "        </div>\n",
       "        \n",
       "            </div>\n",
       "        "
      ],
      "text/plain": [
       "<pyspark.sql.session.SparkSession at 0x1c78399aa90>"
      ]
     },
     "execution_count": 4,
     "metadata": {},
     "output_type": "execute_result"
    }
   ],
   "source": [
    "spark"
   ]
  },
  {
   "cell_type": "code",
   "execution_count": 8,
   "id": "cb41e561",
   "metadata": {},
   "outputs": [],
   "source": [
    "df_pyspark=spark.read.csv('test1.csv',header=True,inferSchema=True)"
   ]
  },
  {
   "cell_type": "code",
   "execution_count": 9,
   "id": "85d7fabb",
   "metadata": {},
   "outputs": [
    {
     "name": "stdout",
     "output_type": "stream",
     "text": [
      "+-------+----+----+\n",
      "|   name| age| exp|\n",
      "+-------+----+----+\n",
      "| harsha|  25|   2|\n",
      "| bhalla|  25|   3|\n",
      "| naveen|  27|   5|\n",
      "|pradeep|  24|null|\n",
      "|harshit|  23|   5|\n",
      "|   null|  25|   6|\n",
      "|     kk|null|   4|\n",
      "|    kll|null|   3|\n",
      "+-------+----+----+\n",
      "\n"
     ]
    }
   ],
   "source": [
    "df_pyspark.show()"
   ]
  },
  {
   "cell_type": "code",
   "execution_count": 12,
   "id": "5b0d3fac",
   "metadata": {},
   "outputs": [
    {
     "name": "stdout",
     "output_type": "stream",
     "text": [
      "+-------+-------+------------------+------------------+\n",
      "|summary|   name|               age|               exp|\n",
      "+-------+-------+------------------+------------------+\n",
      "|  count|      7|                 6|                 7|\n",
      "|   mean|   null|24.833333333333332|               4.0|\n",
      "| stddev|   null| 1.329160135825126|1.4142135623730951|\n",
      "|    min| bhalla|                23|                 2|\n",
      "|    max|pradeep|                27|                 6|\n",
      "+-------+-------+------------------+------------------+\n",
      "\n"
     ]
    }
   ],
   "source": [
    "df_pyspark.describe().show()"
   ]
  },
  {
   "cell_type": "code",
   "execution_count": 13,
   "id": "92f1fb3f",
   "metadata": {},
   "outputs": [
    {
     "name": "stdout",
     "output_type": "stream",
     "text": [
      "+----+----+\n",
      "| age| exp|\n",
      "+----+----+\n",
      "|  25|   2|\n",
      "|  25|   3|\n",
      "|  27|   5|\n",
      "|  24|null|\n",
      "|  23|   5|\n",
      "|  25|   6|\n",
      "|null|   4|\n",
      "|null|   3|\n",
      "+----+----+\n",
      "\n"
     ]
    }
   ],
   "source": [
    "# dropping the column\n",
    "df_pyspark.drop('name').show()"
   ]
  },
  {
   "cell_type": "code",
   "execution_count": 15,
   "id": "c18eb6b7",
   "metadata": {},
   "outputs": [
    {
     "name": "stdout",
     "output_type": "stream",
     "text": [
      "+-------+----+----+\n",
      "|   name| age| exp|\n",
      "+-------+----+----+\n",
      "| harsha|  25|   2|\n",
      "| bhalla|  25|   3|\n",
      "| naveen|  27|   5|\n",
      "|pradeep|  24|null|\n",
      "|harshit|  23|   5|\n",
      "|   null|  25|   6|\n",
      "|     kk|null|   4|\n",
      "|    kll|null|   3|\n",
      "+-------+----+----+\n",
      "\n"
     ]
    }
   ],
   "source": [
    "df_pyspark.show()"
   ]
  },
  {
   "cell_type": "code",
   "execution_count": 19,
   "id": "d33e8b21",
   "metadata": {},
   "outputs": [
    {
     "name": "stdout",
     "output_type": "stream",
     "text": [
      "+-------+---+---+\n",
      "|   name|age|exp|\n",
      "+-------+---+---+\n",
      "| harsha| 25|  2|\n",
      "| bhalla| 25|  3|\n",
      "| naveen| 27|  5|\n",
      "|harshit| 23|  5|\n",
      "+-------+---+---+\n",
      "\n"
     ]
    }
   ],
   "source": [
    "df_pyspark.na.drop().show()"
   ]
  },
  {
   "cell_type": "code",
   "execution_count": 21,
   "id": "177718de",
   "metadata": {},
   "outputs": [
    {
     "name": "stdout",
     "output_type": "stream",
     "text": [
      "+-------+---+---+\n",
      "|   name|age|exp|\n",
      "+-------+---+---+\n",
      "| harsha| 25|  2|\n",
      "| bhalla| 25|  3|\n",
      "| naveen| 27|  5|\n",
      "|harshit| 23|  5|\n",
      "+-------+---+---+\n",
      "\n"
     ]
    }
   ],
   "source": [
    "## how = any option will drop the row if any of the value in the row is null\n",
    "## thresh value can be used to see how many valid values to be present in \n",
    "## a row for the row not to be dropped. \n",
    "df_pyspark.na.drop(how='any').show()"
   ]
  },
  {
   "cell_type": "code",
   "execution_count": 27,
   "id": "98301704",
   "metadata": {},
   "outputs": [
    {
     "name": "stdout",
     "output_type": "stream",
     "text": [
      "+--------------+----+----+\n",
      "|          name| age| exp|\n",
      "+--------------+----+----+\n",
      "|        harsha|  25|   2|\n",
      "|        bhalla|  25|   3|\n",
      "|        naveen|  27|   5|\n",
      "|       pradeep|  24|null|\n",
      "|       harshit|  23|   5|\n",
      "|missing values|  25|   6|\n",
      "|            kk|null|   4|\n",
      "|           kll|null|   3|\n",
      "+--------------+----+----+\n",
      "\n"
     ]
    }
   ],
   "source": [
    "df_pyspark.na.fill('missing values',['name','age']).show()"
   ]
  },
  {
   "cell_type": "code",
   "execution_count": 28,
   "id": "3e31e2dc",
   "metadata": {},
   "outputs": [
    {
     "name": "stdout",
     "output_type": "stream",
     "text": [
      "root\n",
      " |-- name: string (nullable = false)\n",
      " |-- age: integer (nullable = true)\n",
      " |-- exp: integer (nullable = true)\n",
      "\n"
     ]
    }
   ],
   "source": [
    "df_pyspark.na.fill('missing values').printSchema()"
   ]
  },
  {
   "cell_type": "code",
   "execution_count": 32,
   "id": "b3631054",
   "metadata": {},
   "outputs": [],
   "source": [
    "# imputer function\n",
    "from pyspark.ml.feature import Imputer\n",
    "imputer = Imputer(\n",
    "            inputCols=['age','exp'],\n",
    "            outputCols=[\"{}_imputed\".format(c) for c in ['age','exp']]\n",
    "            ).setStrategy('mean')"
   ]
  },
  {
   "cell_type": "code",
   "execution_count": 33,
   "id": "2a873814",
   "metadata": {},
   "outputs": [
    {
     "name": "stdout",
     "output_type": "stream",
     "text": [
      "+-------+----+----+-----------+-----------+\n",
      "|   name| age| exp|age_imputed|exp_imputed|\n",
      "+-------+----+----+-----------+-----------+\n",
      "| harsha|  25|   2|         25|          2|\n",
      "| bhalla|  25|   3|         25|          3|\n",
      "| naveen|  27|   5|         27|          5|\n",
      "|pradeep|  24|null|         24|          4|\n",
      "|harshit|  23|   5|         23|          5|\n",
      "|   null|  25|   6|         25|          6|\n",
      "|     kk|null|   4|         24|          4|\n",
      "|    kll|null|   3|         24|          3|\n",
      "+-------+----+----+-----------+-----------+\n",
      "\n"
     ]
    }
   ],
   "source": [
    "imputer.fit(df_pyspark).transform(df_pyspark).show()"
   ]
  },
  {
   "cell_type": "code",
   "execution_count": 34,
   "id": "e02f558f",
   "metadata": {},
   "outputs": [],
   "source": [
    "imputer = Imputer(\n",
    "            inputCols=['age','exp'],\n",
    "            outputCols=[\"{}_imputed\".format(c) for c in ['age','exp']]\n",
    "            ).setStrategy('median')"
   ]
  },
  {
   "cell_type": "code",
   "execution_count": 35,
   "id": "67527d02",
   "metadata": {},
   "outputs": [
    {
     "name": "stdout",
     "output_type": "stream",
     "text": [
      "+-------+----+----+-----------+-----------+\n",
      "|   name| age| exp|age_imputed|exp_imputed|\n",
      "+-------+----+----+-----------+-----------+\n",
      "| harsha|  25|   2|         25|          2|\n",
      "| bhalla|  25|   3|         25|          3|\n",
      "| naveen|  27|   5|         27|          5|\n",
      "|pradeep|  24|null|         24|          4|\n",
      "|harshit|  23|   5|         23|          5|\n",
      "|   null|  25|   6|         25|          6|\n",
      "|     kk|null|   4|         25|          4|\n",
      "|    kll|null|   3|         25|          3|\n",
      "+-------+----+----+-----------+-----------+\n",
      "\n"
     ]
    }
   ],
   "source": [
    "imputer.fit(df_pyspark).transform(df_pyspark).show()"
   ]
  },
  {
   "cell_type": "code",
   "execution_count": null,
   "id": "582d3988",
   "metadata": {},
   "outputs": [],
   "source": [
    " "
   ]
  }
 ],
 "metadata": {
  "kernelspec": {
   "display_name": "Python 3",
   "language": "python",
   "name": "python3"
  },
  "language_info": {
   "codemirror_mode": {
    "name": "ipython",
    "version": 3
   },
   "file_extension": ".py",
   "mimetype": "text/x-python",
   "name": "python",
   "nbconvert_exporter": "python",
   "pygments_lexer": "ipython3",
   "version": "3.8.8"
  }
 },
 "nbformat": 4,
 "nbformat_minor": 5
}
