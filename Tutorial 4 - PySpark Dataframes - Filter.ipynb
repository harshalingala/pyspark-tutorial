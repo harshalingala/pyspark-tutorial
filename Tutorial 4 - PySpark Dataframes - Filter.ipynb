{
 "cells": [
  {
   "cell_type": "code",
   "execution_count": 11,
   "id": "a171b153",
   "metadata": {},
   "outputs": [],
   "source": [
    "import pandas as pd\n",
    "import numpy as np\n",
    "from pyspark.sql import SparkSession"
   ]
  },
  {
   "cell_type": "code",
   "execution_count": 12,
   "id": "c8805b64",
   "metadata": {},
   "outputs": [],
   "source": [
    "spark = SparkSession.builder.appName('dataframe').getOrCreate()"
   ]
  },
  {
   "cell_type": "code",
   "execution_count": 13,
   "id": "e9601d15",
   "metadata": {},
   "outputs": [
    {
     "data": {
      "text/html": [
       "\n",
       "            <div>\n",
       "                <p><b>SparkSession - in-memory</b></p>\n",
       "                \n",
       "        <div>\n",
       "            <p><b>SparkContext</b></p>\n",
       "\n",
       "            <p><a href=\"http://DESKTOP-JE2RI4V:4040\">Spark UI</a></p>\n",
       "\n",
       "            <dl>\n",
       "              <dt>Version</dt>\n",
       "                <dd><code>v3.4.1</code></dd>\n",
       "              <dt>Master</dt>\n",
       "                <dd><code>local[*]</code></dd>\n",
       "              <dt>AppName</dt>\n",
       "                <dd><code>dataframe</code></dd>\n",
       "            </dl>\n",
       "        </div>\n",
       "        \n",
       "            </div>\n",
       "        "
      ],
      "text/plain": [
       "<pyspark.sql.session.SparkSession at 0x1e6ffb2bd30>"
      ]
     },
     "execution_count": 13,
     "metadata": {},
     "output_type": "execute_result"
    }
   ],
   "source": [
    "spark"
   ]
  },
  {
   "cell_type": "code",
   "execution_count": 14,
   "id": "c19f2134",
   "metadata": {},
   "outputs": [],
   "source": [
    "df_pyspark = spark.read.csv('test1.csv',header=True,inferSchema=True)"
   ]
  },
  {
   "cell_type": "code",
   "execution_count": 15,
   "id": "daa64ac1",
   "metadata": {},
   "outputs": [
    {
     "name": "stdout",
     "output_type": "stream",
     "text": [
      "+-------+----+----+\n",
      "|   name| age| exp|\n",
      "+-------+----+----+\n",
      "| harsha|  25|   2|\n",
      "| bhalla|  25|   3|\n",
      "| naveen|  27|   5|\n",
      "|pradeep|  24|null|\n",
      "|harshit|  23|   5|\n",
      "|   null|  25|   6|\n",
      "|     kk|null|   4|\n",
      "|    kll|null|   3|\n",
      "+-------+----+----+\n",
      "\n"
     ]
    }
   ],
   "source": [
    "df_pyspark.show()"
   ]
  },
  {
   "cell_type": "markdown",
   "id": "5507637a",
   "metadata": {},
   "source": [
    "## filter operations"
   ]
  },
  {
   "cell_type": "code",
   "execution_count": 16,
   "id": "c81877a5",
   "metadata": {},
   "outputs": [
    {
     "name": "stdout",
     "output_type": "stream",
     "text": [
      "+-------+---+----+\n",
      "|   name|age| exp|\n",
      "+-------+---+----+\n",
      "| harsha| 25|   2|\n",
      "| bhalla| 25|   3|\n",
      "|pradeep| 24|null|\n",
      "|harshit| 23|   5|\n",
      "|   null| 25|   6|\n",
      "+-------+---+----+\n",
      "\n"
     ]
    }
   ],
   "source": [
    "## people with age less that 25\n",
    "df_pyspark.filter('age<=25').show()"
   ]
  },
  {
   "cell_type": "code",
   "execution_count": 17,
   "id": "addefe6d",
   "metadata": {},
   "outputs": [
    {
     "name": "stdout",
     "output_type": "stream",
     "text": [
      "+-------+---+\n",
      "|   name|age|\n",
      "+-------+---+\n",
      "| harsha| 25|\n",
      "| bhalla| 25|\n",
      "|pradeep| 24|\n",
      "|harshit| 23|\n",
      "|   null| 25|\n",
      "+-------+---+\n",
      "\n"
     ]
    }
   ],
   "source": [
    "df_pyspark.filter('age<=25').select(['name','age']).show()"
   ]
  },
  {
   "cell_type": "code",
   "execution_count": 21,
   "id": "00f92d78",
   "metadata": {},
   "outputs": [
    {
     "name": "stdout",
     "output_type": "stream",
     "text": [
      "+------+---+---+\n",
      "|  name|age|exp|\n",
      "+------+---+---+\n",
      "|harsha| 25|  2|\n",
      "|bhalla| 25|  3|\n",
      "|  null| 25|  6|\n",
      "+------+---+---+\n",
      "\n"
     ]
    }
   ],
   "source": [
    "df_pyspark.filter('age<=25 and age>24').show()"
   ]
  },
  {
   "cell_type": "code",
   "execution_count": 24,
   "id": "c542d8e1",
   "metadata": {},
   "outputs": [
    {
     "name": "stdout",
     "output_type": "stream",
     "text": [
      "+-------+---+---+\n",
      "|   name|age|exp|\n",
      "+-------+---+---+\n",
      "|harshit| 23|  5|\n",
      "|   null| 25|  6|\n",
      "+-------+---+---+\n",
      "\n"
     ]
    }
   ],
   "source": [
    "df_pyspark.filter((df_pyspark['age']<=25) & (df_pyspark['exp']>3)).show()"
   ]
  },
  {
   "cell_type": "code",
   "execution_count": null,
   "id": "9798c386",
   "metadata": {},
   "outputs": [],
   "source": []
  }
 ],
 "metadata": {
  "kernelspec": {
   "display_name": "Python 3",
   "language": "python",
   "name": "python3"
  },
  "language_info": {
   "codemirror_mode": {
    "name": "ipython",
    "version": 3
   },
   "file_extension": ".py",
   "mimetype": "text/x-python",
   "name": "python",
   "nbconvert_exporter": "python",
   "pygments_lexer": "ipython3",
   "version": "3.8.8"
  }
 },
 "nbformat": 4,
 "nbformat_minor": 5
}
