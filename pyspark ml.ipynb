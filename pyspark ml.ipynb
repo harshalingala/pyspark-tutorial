{
 "cells": [
  {
   "cell_type": "code",
   "execution_count": 122,
   "id": "3ae21da6",
   "metadata": {},
   "outputs": [],
   "source": [
    "from pyspark.sql import SparkSession"
   ]
  },
  {
   "cell_type": "code",
   "execution_count": 123,
   "id": "56503972",
   "metadata": {},
   "outputs": [],
   "source": [
    "spark=SparkSession.builder.appName(\"datacamp tutorial\").getOrCreate()"
   ]
  },
  {
   "cell_type": "code",
   "execution_count": 124,
   "id": "e631fe19",
   "metadata": {},
   "outputs": [
    {
     "data": {
      "text/html": [
       "\n",
       "            <div>\n",
       "                <p><b>SparkSession - in-memory</b></p>\n",
       "                \n",
       "        <div>\n",
       "            <p><b>SparkContext</b></p>\n",
       "\n",
       "            <p><a href=\"http://DESKTOP-JE2RI4V:4040\">Spark UI</a></p>\n",
       "\n",
       "            <dl>\n",
       "              <dt>Version</dt>\n",
       "                <dd><code>v3.4.1</code></dd>\n",
       "              <dt>Master</dt>\n",
       "                <dd><code>local[*]</code></dd>\n",
       "              <dt>AppName</dt>\n",
       "                <dd><code>datacamp tutorial</code></dd>\n",
       "            </dl>\n",
       "        </div>\n",
       "        \n",
       "            </div>\n",
       "        "
      ],
      "text/plain": [
       "<pyspark.sql.session.SparkSession at 0x28d386e9ee0>"
      ]
     },
     "execution_count": 124,
     "metadata": {},
     "output_type": "execute_result"
    }
   ],
   "source": [
    "spark"
   ]
  },
  {
   "cell_type": "code",
   "execution_count": 125,
   "id": "0043c0e5",
   "metadata": {},
   "outputs": [],
   "source": [
    "df = spark.read.csv('Online_Retail.csv',header=True)"
   ]
  },
  {
   "cell_type": "code",
   "execution_count": 126,
   "id": "444b677f",
   "metadata": {},
   "outputs": [
    {
     "name": "stdout",
     "output_type": "stream",
     "text": [
      "+---------+---------+-----------------------------------+--------+--------------+---------+----------+--------------+\n",
      "|InvoiceNo|StockCode|Description                        |Quantity|InvoiceDate   |UnitPrice|CustomerID|Country       |\n",
      "+---------+---------+-----------------------------------+--------+--------------+---------+----------+--------------+\n",
      "|536365   |85123A   |WHITE HANGING HEART T-LIGHT HOLDER |6       |1/12/2010 8:26|2.55     |17850     |United Kingdom|\n",
      "|536365   |71053    |WHITE METAL LANTERN                |6       |1/12/2010 8:26|3.39     |17850     |United Kingdom|\n",
      "|536365   |84406B   |CREAM CUPID HEARTS COAT HANGER     |8       |1/12/2010 8:26|2.75     |17850     |United Kingdom|\n",
      "|536365   |84029G   |KNITTED UNION FLAG HOT WATER BOTTLE|6       |1/12/2010 8:26|3.39     |17850     |United Kingdom|\n",
      "|536365   |84029E   |RED WOOLLY HOTTIE WHITE HEART.     |6       |1/12/2010 8:26|3.39     |17850     |United Kingdom|\n",
      "+---------+---------+-----------------------------------+--------+--------------+---------+----------+--------------+\n",
      "only showing top 5 rows\n",
      "\n"
     ]
    }
   ],
   "source": [
    "df.show(5,0)"
   ]
  },
  {
   "cell_type": "code",
   "execution_count": 127,
   "id": "564d9e74",
   "metadata": {},
   "outputs": [
    {
     "data": {
      "text/plain": [
       "Row(InvoiceNo='536365', StockCode='85123A', Description='WHITE HANGING HEART T-LIGHT HOLDER', Quantity='6', InvoiceDate='1/12/2010 8:26', UnitPrice='2.55', CustomerID='17850', Country='United Kingdom')"
      ]
     },
     "execution_count": 127,
     "metadata": {},
     "output_type": "execute_result"
    }
   ],
   "source": [
    "df.head()"
   ]
  },
  {
   "cell_type": "code",
   "execution_count": 128,
   "id": "3a101f0e",
   "metadata": {},
   "outputs": [
    {
     "data": {
      "text/plain": [
       "541909"
      ]
     },
     "execution_count": 128,
     "metadata": {},
     "output_type": "execute_result"
    }
   ],
   "source": [
    "df.count()"
   ]
  },
  {
   "cell_type": "code",
   "execution_count": 129,
   "id": "f0659df2",
   "metadata": {},
   "outputs": [
    {
     "data": {
      "text/plain": [
       "[Row(InvoiceNo='581587', StockCode='22613', Description='PACK OF 20 SPACEBOY NAPKINS', Quantity='12', InvoiceDate='9/12/2011 12:50', UnitPrice='0.85', CustomerID='12680', Country='France'),\n",
       " Row(InvoiceNo='581587', StockCode='22899', Description=\"CHILDREN'S APRON DOLLY GIRL \", Quantity='6', InvoiceDate='9/12/2011 12:50', UnitPrice='2.1', CustomerID='12680', Country='France'),\n",
       " Row(InvoiceNo='581587', StockCode='23254', Description='CHILDRENS CUTLERY DOLLY GIRL ', Quantity='4', InvoiceDate='9/12/2011 12:50', UnitPrice='4.15', CustomerID='12680', Country='France'),\n",
       " Row(InvoiceNo='581587', StockCode='23255', Description='CHILDRENS CUTLERY CIRCUS PARADE', Quantity='4', InvoiceDate='9/12/2011 12:50', UnitPrice='4.15', CustomerID='12680', Country='France'),\n",
       " Row(InvoiceNo='581587', StockCode='22138', Description='BAKING SET 9 PIECE RETROSPOT ', Quantity='3', InvoiceDate='9/12/2011 12:50', UnitPrice='4.95', CustomerID='12680', Country='France')]"
      ]
     },
     "execution_count": 129,
     "metadata": {},
     "output_type": "execute_result"
    }
   ],
   "source": [
    "df.tail(5)"
   ]
  },
  {
   "cell_type": "code",
   "execution_count": 130,
   "id": "9519045c",
   "metadata": {},
   "outputs": [
    {
     "data": {
      "text/plain": [
       "4373"
      ]
     },
     "execution_count": 130,
     "metadata": {},
     "output_type": "execute_result"
    }
   ],
   "source": [
    "df.select(\"CustomerID\").distinct().count()"
   ]
  },
  {
   "cell_type": "code",
   "execution_count": 131,
   "id": "ddc437a1",
   "metadata": {},
   "outputs": [],
   "source": [
    "from pyspark.sql.functions import *\n",
    "from pyspark.sql.types import *"
   ]
  },
  {
   "cell_type": "code",
   "execution_count": 132,
   "id": "8e1cb039",
   "metadata": {},
   "outputs": [
    {
     "name": "stdout",
     "output_type": "stream",
     "text": [
      "+---------------+-------------+\n",
      "|        Country|country_count|\n",
      "+---------------+-------------+\n",
      "| United Kingdom|         3950|\n",
      "|        Germany|           95|\n",
      "|         France|           87|\n",
      "|          Spain|           31|\n",
      "|        Belgium|           25|\n",
      "|    Switzerland|           21|\n",
      "|       Portugal|           19|\n",
      "|          Italy|           15|\n",
      "|        Finland|           12|\n",
      "|        Austria|           11|\n",
      "|         Norway|           10|\n",
      "|        Denmark|            9|\n",
      "|Channel Islands|            9|\n",
      "|      Australia|            9|\n",
      "|    Netherlands|            9|\n",
      "|         Sweden|            8|\n",
      "|         Cyprus|            8|\n",
      "|          Japan|            8|\n",
      "|         Poland|            6|\n",
      "|         Greece|            4|\n",
      "+---------------+-------------+\n",
      "only showing top 20 rows\n",
      "\n"
     ]
    }
   ],
   "source": [
    "df.groupBy('Country').agg(countDistinct('CustomerID').alias('country_count')).orderBy(desc('country_count')).show()"
   ]
  },
  {
   "cell_type": "code",
   "execution_count": 133,
   "id": "29b2d1ee",
   "metadata": {},
   "outputs": [
    {
     "data": {
      "text/plain": [
       "DataFrame[key: string, value: string]"
      ]
     },
     "execution_count": 133,
     "metadata": {},
     "output_type": "execute_result"
    }
   ],
   "source": [
    "spark.sql(\"set spark.sql.legacy.timeParserPolicy=LEGACY\")"
   ]
  },
  {
   "cell_type": "code",
   "execution_count": 134,
   "id": "b8e562cf",
   "metadata": {},
   "outputs": [
    {
     "data": {
      "text/html": [
       "\n",
       "            <div>\n",
       "                <p><b>SparkSession - in-memory</b></p>\n",
       "                \n",
       "        <div>\n",
       "            <p><b>SparkContext</b></p>\n",
       "\n",
       "            <p><a href=\"http://DESKTOP-JE2RI4V:4040\">Spark UI</a></p>\n",
       "\n",
       "            <dl>\n",
       "              <dt>Version</dt>\n",
       "                <dd><code>v3.4.1</code></dd>\n",
       "              <dt>Master</dt>\n",
       "                <dd><code>local[*]</code></dd>\n",
       "              <dt>AppName</dt>\n",
       "                <dd><code>datacamp tutorial</code></dd>\n",
       "            </dl>\n",
       "        </div>\n",
       "        \n",
       "            </div>\n",
       "        "
      ],
      "text/plain": [
       "<pyspark.sql.session.SparkSession at 0x28d386e9ee0>"
      ]
     },
     "execution_count": 134,
     "metadata": {},
     "output_type": "execute_result"
    }
   ],
   "source": [
    "spark"
   ]
  },
  {
   "cell_type": "code",
   "execution_count": 135,
   "id": "39d3857b",
   "metadata": {},
   "outputs": [
    {
     "name": "stdout",
     "output_type": "stream",
     "text": [
      "+---------+---------+--------------------+--------+--------------+---------+----------+--------------+-------------------+\n",
      "|InvoiceNo|StockCode|         Description|Quantity|   InvoiceDate|UnitPrice|CustomerID|       Country|               date|\n",
      "+---------+---------+--------------------+--------+--------------+---------+----------+--------------+-------------------+\n",
      "|   536365|   85123A|WHITE HANGING HEA...|       6|1/12/2010 8:26|     2.55|     17850|United Kingdom|2010-12-01 08:26:00|\n",
      "|   536365|    71053| WHITE METAL LANTERN|       6|1/12/2010 8:26|     3.39|     17850|United Kingdom|2010-12-01 08:26:00|\n",
      "|   536365|   84406B|CREAM CUPID HEART...|       8|1/12/2010 8:26|     2.75|     17850|United Kingdom|2010-12-01 08:26:00|\n",
      "|   536365|   84029G|KNITTED UNION FLA...|       6|1/12/2010 8:26|     3.39|     17850|United Kingdom|2010-12-01 08:26:00|\n",
      "|   536365|   84029E|RED WOOLLY HOTTIE...|       6|1/12/2010 8:26|     3.39|     17850|United Kingdom|2010-12-01 08:26:00|\n",
      "+---------+---------+--------------------+--------+--------------+---------+----------+--------------+-------------------+\n",
      "only showing top 5 rows\n",
      "\n"
     ]
    }
   ],
   "source": [
    "df = df.withColumn('date',to_timestamp(\"InvoiceDate\", 'dd/MM/yy hh:mm'))\n",
    "df.show(5)"
   ]
  },
  {
   "cell_type": "code",
   "execution_count": 136,
   "id": "9921b60a",
   "metadata": {},
   "outputs": [
    {
     "name": "stdout",
     "output_type": "stream",
     "text": [
      "+-------------------+\n",
      "|          min(date)|\n",
      "+-------------------+\n",
      "|2010-12-01 00:03:00|\n",
      "+-------------------+\n",
      "\n"
     ]
    }
   ],
   "source": [
    "df.select(min(\"date\")).show(5)"
   ]
  },
  {
   "cell_type": "code",
   "execution_count": 137,
   "id": "5d79d096",
   "metadata": {},
   "outputs": [
    {
     "name": "stdout",
     "output_type": "stream",
     "text": [
      "+-------------------+\n",
      "|          max(date)|\n",
      "+-------------------+\n",
      "|2011-12-09 11:59:00|\n",
      "+-------------------+\n",
      "\n"
     ]
    }
   ],
   "source": [
    "df.select(max('date')).show()"
   ]
  },
  {
   "cell_type": "code",
   "execution_count": 138,
   "id": "cc8b451b",
   "metadata": {},
   "outputs": [],
   "source": [
    "df = df.withColumn(\"from_date\", lit(\"12/1/10 08:26\"))\n",
    "df = df.withColumn('from_date',to_timestamp(\"from_date\", 'yy/MM/dd HH:mm'))\n",
    "\n",
    "df2=df.withColumn('from_date',to_timestamp(col('from_date'))).withColumn('recency',col(\"date\").cast(\"long\") - col('from_date').cast(\"long\"))"
   ]
  },
  {
   "cell_type": "code",
   "execution_count": 139,
   "id": "86e250e6",
   "metadata": {},
   "outputs": [
    {
     "name": "stdout",
     "output_type": "stream",
     "text": [
      "+---------+---------+--------------------+--------+--------------+---------+----------+--------------+-------------------+-------------------+---------+\n",
      "|InvoiceNo|StockCode|         Description|Quantity|   InvoiceDate|UnitPrice|CustomerID|       Country|               date|          from_date|  recency|\n",
      "+---------+---------+--------------------+--------+--------------+---------+----------+--------------+-------------------+-------------------+---------+\n",
      "|   536365|   85123A|WHITE HANGING HEA...|       6|1/12/2010 8:26|     2.55|     17850|United Kingdom|2010-12-01 08:26:00|2012-01-10 08:26:00|-34992000|\n",
      "|   536365|    71053| WHITE METAL LANTERN|       6|1/12/2010 8:26|     3.39|     17850|United Kingdom|2010-12-01 08:26:00|2012-01-10 08:26:00|-34992000|\n",
      "|   536365|   84406B|CREAM CUPID HEART...|       8|1/12/2010 8:26|     2.75|     17850|United Kingdom|2010-12-01 08:26:00|2012-01-10 08:26:00|-34992000|\n",
      "|   536365|   84029G|KNITTED UNION FLA...|       6|1/12/2010 8:26|     3.39|     17850|United Kingdom|2010-12-01 08:26:00|2012-01-10 08:26:00|-34992000|\n",
      "|   536365|   84029E|RED WOOLLY HOTTIE...|       6|1/12/2010 8:26|     3.39|     17850|United Kingdom|2010-12-01 08:26:00|2012-01-10 08:26:00|-34992000|\n",
      "+---------+---------+--------------------+--------+--------------+---------+----------+--------------+-------------------+-------------------+---------+\n",
      "only showing top 5 rows\n",
      "\n"
     ]
    }
   ],
   "source": [
    "df2.show(5)"
   ]
  },
  {
   "cell_type": "code",
   "execution_count": 140,
   "id": "b53b7645",
   "metadata": {},
   "outputs": [],
   "source": [
    "df2 = df2.join(df2.groupBy('CustomerID').agg(max('recency').alias('recency')),on='recency',how='leftsemi')"
   ]
  },
  {
   "cell_type": "code",
   "execution_count": 141,
   "id": "b085b046",
   "metadata": {},
   "outputs": [
    {
     "name": "stdout",
     "output_type": "stream",
     "text": [
      "+---------+---------+---------+--------------------+--------+--------------+---------+----------+--------------+-------------------+-------------------+\n",
      "|  recency|InvoiceNo|StockCode|         Description|Quantity|   InvoiceDate|UnitPrice|CustomerID|       Country|               date|          from_date|\n",
      "+---------+---------+---------+--------------------+--------+--------------+---------+----------+--------------+-------------------+-------------------+\n",
      "|-34986780|   536384|    82484|WOOD BLACK BOARD ...|       3|1/12/2010 9:53|     6.45|     18074|United Kingdom|2010-12-01 09:53:00|2012-01-10 08:26:00|\n",
      "|-34986780|   536384|    84755|COLOUR GLASS T-LI...|      48|1/12/2010 9:53|     0.65|     18074|United Kingdom|2010-12-01 09:53:00|2012-01-10 08:26:00|\n",
      "|-34986780|   536384|    22464|HANGING METAL HEA...|      12|1/12/2010 9:53|     1.65|     18074|United Kingdom|2010-12-01 09:53:00|2012-01-10 08:26:00|\n",
      "|-34986780|   536384|    21324|HANGING MEDINA LA...|       6|1/12/2010 9:53|     2.95|     18074|United Kingdom|2010-12-01 09:53:00|2012-01-10 08:26:00|\n",
      "|-34986780|   536384|    22457|NATURAL SLATE HEA...|      12|1/12/2010 9:53|     2.95|     18074|United Kingdom|2010-12-01 09:53:00|2012-01-10 08:26:00|\n",
      "|-34986780|   536384|    22469|HEART OF WICKER S...|      40|1/12/2010 9:53|     1.45|     18074|United Kingdom|2010-12-01 09:53:00|2012-01-10 08:26:00|\n",
      "|-34986780|   536384|    22470|HEART OF WICKER L...|      40|1/12/2010 9:53|     2.55|     18074|United Kingdom|2010-12-01 09:53:00|2012-01-10 08:26:00|\n",
      "|-34986780|   536384|    22224|WHITE LOVEBIRD LA...|       6|1/12/2010 9:53|     2.95|     18074|United Kingdom|2010-12-01 09:53:00|2012-01-10 08:26:00|\n",
      "|-34986780|   536384|    21340|CLASSIC METAL BIR...|       2|1/12/2010 9:53|    12.75|     18074|United Kingdom|2010-12-01 09:53:00|2012-01-10 08:26:00|\n",
      "|-34986780|   536384|    22189|CREAM HEART CARD ...|       4|1/12/2010 9:53|     3.95|     18074|United Kingdom|2010-12-01 09:53:00|2012-01-10 08:26:00|\n",
      "|-34986780|   536384|    22427|ENAMEL FLOWER JUG...|       3|1/12/2010 9:53|     5.95|     18074|United Kingdom|2010-12-01 09:53:00|2012-01-10 08:26:00|\n",
      "|-34986780|   536384|    22428|ENAMEL FIRE BUCKE...|       6|1/12/2010 9:53|     6.95|     18074|United Kingdom|2010-12-01 09:53:00|2012-01-10 08:26:00|\n",
      "|-34986780|   536384|    22424|ENAMEL BREAD BIN ...|       8|1/12/2010 9:53|    10.95|     18074|United Kingdom|2010-12-01 09:53:00|2012-01-10 08:26:00|\n",
      "|-34986600|   536385|    22783|SET 3 WICKER OVAL...|       1|1/12/2010 9:56|    19.95|     17420|United Kingdom|2010-12-01 09:56:00|2012-01-10 08:26:00|\n",
      "|-34986600|   536385|    22961|JAM MAKING SET PR...|      12|1/12/2010 9:56|     1.45|     17420|United Kingdom|2010-12-01 09:56:00|2012-01-10 08:26:00|\n",
      "|-34986600|   536385|    22960|JAM MAKING SET WI...|       6|1/12/2010 9:56|     4.25|     17420|United Kingdom|2010-12-01 09:56:00|2012-01-10 08:26:00|\n",
      "|-34986600|   536385|    22663|JUMBO BAG DOLLY G...|      10|1/12/2010 9:56|     1.95|     17420|United Kingdom|2010-12-01 09:56:00|2012-01-10 08:26:00|\n",
      "|-34986600|   536385|   85049A|TRADITIONAL CHRIS...|      12|1/12/2010 9:56|     1.25|     17420|United Kingdom|2010-12-01 09:56:00|2012-01-10 08:26:00|\n",
      "|-34986600|   536385|    22168|ORGANISER WOOD AN...|       2|1/12/2010 9:56|      8.5|     17420|United Kingdom|2010-12-01 09:56:00|2012-01-10 08:26:00|\n",
      "|-34986600|   536385|    22662|LUNCH BAG DOLLY G...|      10|1/12/2010 9:56|     1.65|     17420|United Kingdom|2010-12-01 09:56:00|2012-01-10 08:26:00|\n",
      "+---------+---------+---------+--------------------+--------+--------------+---------+----------+--------------+-------------------+-------------------+\n",
      "only showing top 20 rows\n",
      "\n"
     ]
    }
   ],
   "source": [
    "df2.show()"
   ]
  },
  {
   "cell_type": "code",
   "execution_count": 142,
   "id": "410d4f1d",
   "metadata": {},
   "outputs": [
    {
     "name": "stdout",
     "output_type": "stream",
     "text": [
      "root\n",
      " |-- recency: long (nullable = true)\n",
      " |-- InvoiceNo: string (nullable = true)\n",
      " |-- StockCode: string (nullable = true)\n",
      " |-- Description: string (nullable = true)\n",
      " |-- Quantity: string (nullable = true)\n",
      " |-- InvoiceDate: string (nullable = true)\n",
      " |-- UnitPrice: string (nullable = true)\n",
      " |-- CustomerID: string (nullable = true)\n",
      " |-- Country: string (nullable = true)\n",
      " |-- date: timestamp (nullable = true)\n",
      " |-- from_date: timestamp (nullable = true)\n",
      "\n"
     ]
    }
   ],
   "source": [
    "df2.printSchema()"
   ]
  },
  {
   "cell_type": "code",
   "execution_count": 143,
   "id": "defba9b8",
   "metadata": {},
   "outputs": [],
   "source": [
    "df_freq = df2.groupBy(\"CustomerID\").agg(count(\"InvoiceDate\").alias(\"frequency\"))"
   ]
  },
  {
   "cell_type": "code",
   "execution_count": 144,
   "id": "8ba3a1cd",
   "metadata": {},
   "outputs": [
    {
     "name": "stdout",
     "output_type": "stream",
     "text": [
      "+----------+---------+\n",
      "|CustomerID|frequency|\n",
      "+----------+---------+\n",
      "|     16250|       14|\n",
      "|     17714|       10|\n",
      "|     17128|       14|\n",
      "|     14439|       32|\n",
      "|     17917|       29|\n",
      "|     18106|       39|\n",
      "|     17855|       17|\n",
      "|     12386|        2|\n",
      "|     13672|        3|\n",
      "|     15107|        1|\n",
      "|     15100|        1|\n",
      "|     13126|       31|\n",
      "|     15899|        4|\n",
      "|     18113|        1|\n",
      "|     16081|       22|\n",
      "|     13144|        3|\n",
      "|     14295|        2|\n",
      "|     12967|       15|\n",
      "|     14090|        1|\n",
      "|     17311|       24|\n",
      "+----------+---------+\n",
      "only showing top 20 rows\n",
      "\n"
     ]
    }
   ],
   "source": [
    "df_freq.show()"
   ]
  },
  {
   "cell_type": "code",
   "execution_count": 145,
   "id": "dd551d61",
   "metadata": {},
   "outputs": [],
   "source": [
    "df3 = df2.join(df_freq,on='CustomerID',how='inner')"
   ]
  },
  {
   "cell_type": "code",
   "execution_count": 146,
   "id": "ef1695ae",
   "metadata": {},
   "outputs": [
    {
     "name": "stdout",
     "output_type": "stream",
     "text": [
      "+----------+---------+---------+---------+--------------------+--------+--------------+---------+--------------+-------------------+-------------------+---------+\n",
      "|CustomerID|  recency|InvoiceNo|StockCode|         Description|Quantity|   InvoiceDate|UnitPrice|       Country|               date|          from_date|frequency|\n",
      "+----------+---------+---------+---------+--------------------+--------+--------------+---------+--------------+-------------------+-------------------+---------+\n",
      "|     18074|-34986780|   536384|    82484|WOOD BLACK BOARD ...|       3|1/12/2010 9:53|     6.45|United Kingdom|2010-12-01 09:53:00|2012-01-10 08:26:00|       13|\n",
      "|     18074|-34986780|   536384|    84755|COLOUR GLASS T-LI...|      48|1/12/2010 9:53|     0.65|United Kingdom|2010-12-01 09:53:00|2012-01-10 08:26:00|       13|\n",
      "|     18074|-34986780|   536384|    22464|HANGING METAL HEA...|      12|1/12/2010 9:53|     1.65|United Kingdom|2010-12-01 09:53:00|2012-01-10 08:26:00|       13|\n",
      "|     18074|-34986780|   536384|    21324|HANGING MEDINA LA...|       6|1/12/2010 9:53|     2.95|United Kingdom|2010-12-01 09:53:00|2012-01-10 08:26:00|       13|\n",
      "|     18074|-34986780|   536384|    22457|NATURAL SLATE HEA...|      12|1/12/2010 9:53|     2.95|United Kingdom|2010-12-01 09:53:00|2012-01-10 08:26:00|       13|\n",
      "|     18074|-34986780|   536384|    22469|HEART OF WICKER S...|      40|1/12/2010 9:53|     1.45|United Kingdom|2010-12-01 09:53:00|2012-01-10 08:26:00|       13|\n",
      "|     18074|-34986780|   536384|    22470|HEART OF WICKER L...|      40|1/12/2010 9:53|     2.55|United Kingdom|2010-12-01 09:53:00|2012-01-10 08:26:00|       13|\n",
      "|     18074|-34986780|   536384|    22224|WHITE LOVEBIRD LA...|       6|1/12/2010 9:53|     2.95|United Kingdom|2010-12-01 09:53:00|2012-01-10 08:26:00|       13|\n",
      "|     18074|-34986780|   536384|    21340|CLASSIC METAL BIR...|       2|1/12/2010 9:53|    12.75|United Kingdom|2010-12-01 09:53:00|2012-01-10 08:26:00|       13|\n",
      "|     18074|-34986780|   536384|    22189|CREAM HEART CARD ...|       4|1/12/2010 9:53|     3.95|United Kingdom|2010-12-01 09:53:00|2012-01-10 08:26:00|       13|\n",
      "|     18074|-34986780|   536384|    22427|ENAMEL FLOWER JUG...|       3|1/12/2010 9:53|     5.95|United Kingdom|2010-12-01 09:53:00|2012-01-10 08:26:00|       13|\n",
      "|     18074|-34986780|   536384|    22428|ENAMEL FIRE BUCKE...|       6|1/12/2010 9:53|     6.95|United Kingdom|2010-12-01 09:53:00|2012-01-10 08:26:00|       13|\n",
      "|     18074|-34986780|   536384|    22424|ENAMEL BREAD BIN ...|       8|1/12/2010 9:53|    10.95|United Kingdom|2010-12-01 09:53:00|2012-01-10 08:26:00|       13|\n",
      "|     17420|-34986600|   536385|    22783|SET 3 WICKER OVAL...|       1|1/12/2010 9:56|    19.95|United Kingdom|2010-12-01 09:56:00|2012-01-10 08:26:00|        7|\n",
      "|     17420|-34986600|   536385|    22961|JAM MAKING SET PR...|      12|1/12/2010 9:56|     1.45|United Kingdom|2010-12-01 09:56:00|2012-01-10 08:26:00|        7|\n",
      "|     17420|-34986600|   536385|    22960|JAM MAKING SET WI...|       6|1/12/2010 9:56|     4.25|United Kingdom|2010-12-01 09:56:00|2012-01-10 08:26:00|        7|\n",
      "|     17420|-34986600|   536385|    22663|JUMBO BAG DOLLY G...|      10|1/12/2010 9:56|     1.95|United Kingdom|2010-12-01 09:56:00|2012-01-10 08:26:00|        7|\n",
      "|     17420|-34986600|   536385|   85049A|TRADITIONAL CHRIS...|      12|1/12/2010 9:56|     1.25|United Kingdom|2010-12-01 09:56:00|2012-01-10 08:26:00|        7|\n",
      "|     17420|-34986600|   536385|    22168|ORGANISER WOOD AN...|       2|1/12/2010 9:56|      8.5|United Kingdom|2010-12-01 09:56:00|2012-01-10 08:26:00|        7|\n",
      "|     17420|-34986600|   536385|    22662|LUNCH BAG DOLLY G...|      10|1/12/2010 9:56|     1.65|United Kingdom|2010-12-01 09:56:00|2012-01-10 08:26:00|        7|\n",
      "+----------+---------+---------+---------+--------------------+--------+--------------+---------+--------------+-------------------+-------------------+---------+\n",
      "only showing top 20 rows\n",
      "\n"
     ]
    }
   ],
   "source": [
    "df3.show()"
   ]
  },
  {
   "cell_type": "code",
   "execution_count": 147,
   "id": "bb51dd4e",
   "metadata": {},
   "outputs": [
    {
     "data": {
      "text/plain": [
       "61881"
      ]
     },
     "execution_count": 147,
     "metadata": {},
     "output_type": "execute_result"
    }
   ],
   "source": [
    "df3.count()"
   ]
  },
  {
   "cell_type": "code",
   "execution_count": 148,
   "id": "29d8add7",
   "metadata": {},
   "outputs": [
    {
     "name": "stdout",
     "output_type": "stream",
     "text": [
      "root\n",
      " |-- CustomerID: string (nullable = true)\n",
      " |-- recency: long (nullable = true)\n",
      " |-- InvoiceNo: string (nullable = true)\n",
      " |-- StockCode: string (nullable = true)\n",
      " |-- Description: string (nullable = true)\n",
      " |-- Quantity: string (nullable = true)\n",
      " |-- InvoiceDate: string (nullable = true)\n",
      " |-- UnitPrice: string (nullable = true)\n",
      " |-- Country: string (nullable = true)\n",
      " |-- date: timestamp (nullable = true)\n",
      " |-- from_date: timestamp (nullable = true)\n",
      " |-- frequency: long (nullable = false)\n",
      "\n"
     ]
    }
   ],
   "source": [
    "df3.printSchema()"
   ]
  },
  {
   "cell_type": "code",
   "execution_count": 149,
   "id": "3284170f",
   "metadata": {},
   "outputs": [],
   "source": [
    "m_val=df3.withColumn('TotalAmount',col(\"Quantity\")*col(\"UnitPrice\"))"
   ]
  },
  {
   "cell_type": "code",
   "execution_count": 150,
   "id": "0c801e5c",
   "metadata": {},
   "outputs": [
    {
     "name": "stdout",
     "output_type": "stream",
     "text": [
      "root\n",
      " |-- CustomerID: string (nullable = true)\n",
      " |-- recency: long (nullable = true)\n",
      " |-- InvoiceNo: string (nullable = true)\n",
      " |-- StockCode: string (nullable = true)\n",
      " |-- Description: string (nullable = true)\n",
      " |-- Quantity: string (nullable = true)\n",
      " |-- InvoiceDate: string (nullable = true)\n",
      " |-- UnitPrice: string (nullable = true)\n",
      " |-- Country: string (nullable = true)\n",
      " |-- date: timestamp (nullable = true)\n",
      " |-- from_date: timestamp (nullable = true)\n",
      " |-- frequency: long (nullable = false)\n",
      " |-- TotalAmount: double (nullable = true)\n",
      "\n"
     ]
    }
   ],
   "source": [
    "m_val.printSchema()"
   ]
  },
  {
   "cell_type": "code",
   "execution_count": 151,
   "id": "6378b2c5",
   "metadata": {},
   "outputs": [],
   "source": [
    "mval = m_val.groupBy('CustomerID').agg(sum('TotalAmount').alias('monetary_value'))"
   ]
  },
  {
   "cell_type": "code",
   "execution_count": 152,
   "id": "58ef8ed0",
   "metadata": {},
   "outputs": [
    {
     "name": "stdout",
     "output_type": "stream",
     "text": [
      "root\n",
      " |-- CustomerID: string (nullable = true)\n",
      " |-- monetary_value: double (nullable = true)\n",
      "\n"
     ]
    }
   ],
   "source": [
    "mval.printSchema()"
   ]
  },
  {
   "cell_type": "code",
   "execution_count": 153,
   "id": "ff7363ee",
   "metadata": {},
   "outputs": [
    {
     "name": "stdout",
     "output_type": "stream",
     "text": [
      "+----------+------------------+\n",
      "|CustomerID|    monetary_value|\n",
      "+----------+------------------+\n",
      "|     16250|            226.14|\n",
      "|     17714|             153.0|\n",
      "|     17128|            157.09|\n",
      "|     14439|           2661.24|\n",
      "|     17917|110.91000000000001|\n",
      "|     18106| 430.6999999999999|\n",
      "|     17855|208.96999999999997|\n",
      "|     12386|             143.0|\n",
      "|     13672|            -62.13|\n",
      "|     15107|               8.5|\n",
      "|     15100|             175.2|\n",
      "|     13126|            346.04|\n",
      "|     15899|             56.25|\n",
      "|     18113| 76.32000000000001|\n",
      "|     16081|157.60000000000002|\n",
      "|     13144|110.94999999999999|\n",
      "|     14295|             -11.5|\n",
      "|     12967|            1368.4|\n",
      "|     14090| 76.32000000000001|\n",
      "|     17311|            556.46|\n",
      "+----------+------------------+\n",
      "only showing top 20 rows\n",
      "\n"
     ]
    }
   ],
   "source": [
    "mval.show()"
   ]
  },
  {
   "cell_type": "code",
   "execution_count": 154,
   "id": "deb29b89",
   "metadata": {},
   "outputs": [],
   "source": [
    "finaldf = mval.join(df3,on='CustomerID',how='inner')"
   ]
  },
  {
   "cell_type": "code",
   "execution_count": 155,
   "id": "3cb950e9",
   "metadata": {},
   "outputs": [
    {
     "name": "stdout",
     "output_type": "stream",
     "text": [
      "root\n",
      " |-- CustomerID: string (nullable = true)\n",
      " |-- monetary_value: double (nullable = true)\n",
      " |-- recency: long (nullable = true)\n",
      " |-- InvoiceNo: string (nullable = true)\n",
      " |-- StockCode: string (nullable = true)\n",
      " |-- Description: string (nullable = true)\n",
      " |-- Quantity: string (nullable = true)\n",
      " |-- InvoiceDate: string (nullable = true)\n",
      " |-- UnitPrice: string (nullable = true)\n",
      " |-- Country: string (nullable = true)\n",
      " |-- date: timestamp (nullable = true)\n",
      " |-- from_date: timestamp (nullable = true)\n",
      " |-- frequency: long (nullable = false)\n",
      "\n"
     ]
    }
   ],
   "source": [
    "finaldf.printSchema()"
   ]
  },
  {
   "cell_type": "code",
   "execution_count": 156,
   "id": "770263bf",
   "metadata": {},
   "outputs": [],
   "source": [
    "finaldf = finaldf.select(['recency','frequency','monetary_value','CustomerID']).distinct()"
   ]
  },
  {
   "cell_type": "code",
   "execution_count": 157,
   "id": "1242c843",
   "metadata": {},
   "outputs": [
    {
     "name": "stdout",
     "output_type": "stream",
     "text": [
      "+---------+---------+------------------+----------+\n",
      "|  recency|frequency|    monetary_value|CustomerID|\n",
      "+---------+---------+------------------+----------+\n",
      "|-34986420|       14|            226.14|     16250|\n",
      "|-30405240|       10|             153.0|     17714|\n",
      "|-31652640|       14|            157.09|     17128|\n",
      "|-30314820|       32|           2661.24|     14439|\n",
      "|-34071480|       29|110.91000000000001|     17917|\n",
      "|-31219380|       39| 430.6999999999999|     18106|\n",
      "|-34900920|       17|208.96999999999997|     17855|\n",
      "|-31909740|        2|             143.0|     12386|\n",
      "|-31566240|        3|            -62.13|     13672|\n",
      "|-31479660|        1|               8.5|     15107|\n",
      "|-31528260|        1|             175.2|     15100|\n",
      "|-31438020|       31|            346.04|     13126|\n",
      "|-34552200|        4|             56.25|     15899|\n",
      "|-34588500|        1| 76.32000000000001|     18113|\n",
      "|-34377000|       22|157.60000000000002|     16081|\n",
      "|-31439460|        3|110.94999999999999|     13144|\n",
      "|-31437180|        2|             -11.5|     14295|\n",
      "|-34814220|       15|            1368.4|     12967|\n",
      "|-30749700|        1| 76.32000000000001|     14090|\n",
      "|-30058200|       24|            556.46|     17311|\n",
      "+---------+---------+------------------+----------+\n",
      "only showing top 20 rows\n",
      "\n"
     ]
    }
   ],
   "source": [
    "finaldf.show()"
   ]
  },
  {
   "cell_type": "code",
   "execution_count": 158,
   "id": "b7754ce9",
   "metadata": {},
   "outputs": [
    {
     "name": "stdout",
     "output_type": "stream",
     "text": [
      "+-------+-----------------+------------------+-----------------+-----------------+\n",
      "|summary|          recency|         frequency|   monetary_value|       CustomerID|\n",
      "+-------+-----------------+------------------+-----------------+-----------------+\n",
      "|  count|             3528|              3528|             3528|             3528|\n",
      "|   mean|    -1.20769225E7|21.908730158730158|354.4305073696148|15250.70634920635|\n",
      "| stddev|9086387.447225008|29.543155187974833| 3234.84594948651|1716.514101638012|\n",
      "|    min|        -35022180|                 1|        -168469.6|            12346|\n",
      "|    max|         -2752020|               392|         10896.18|            18287|\n",
      "+-------+-----------------+------------------+-----------------+-----------------+\n",
      "\n"
     ]
    }
   ],
   "source": [
    "finaldf.describe().show()"
   ]
  },
  {
   "cell_type": "code",
   "execution_count": 159,
   "id": "05175ee1",
   "metadata": {},
   "outputs": [],
   "source": [
    "from pyspark.ml.feature import VectorAssembler\n",
    "from pyspark.ml.feature import StandardScaler"
   ]
  },
  {
   "cell_type": "code",
   "execution_count": 160,
   "id": "965c734e",
   "metadata": {},
   "outputs": [],
   "source": [
    "assemble = VectorAssembler(\n",
    "    inputCols=['recency','frequency','monetary_value'],\n",
    "    outputCol='features'\n",
    ")"
   ]
  },
  {
   "cell_type": "code",
   "execution_count": 161,
   "id": "74e1b907",
   "metadata": {},
   "outputs": [
    {
     "data": {
      "text/plain": [
       "VectorAssembler_18a67e16d390"
      ]
     },
     "execution_count": 161,
     "metadata": {},
     "output_type": "execute_result"
    }
   ],
   "source": [
    "assemble"
   ]
  },
  {
   "cell_type": "code",
   "execution_count": 162,
   "id": "1722bf64",
   "metadata": {},
   "outputs": [],
   "source": [
    "assembled_data = assemble.transform(finaldf)"
   ]
  },
  {
   "cell_type": "code",
   "execution_count": 163,
   "id": "f0b55b61",
   "metadata": {},
   "outputs": [
    {
     "name": "stdout",
     "output_type": "stream",
     "text": [
      "+---------+---------+------------------+----------+--------------------+\n",
      "|  recency|frequency|    monetary_value|CustomerID|            features|\n",
      "+---------+---------+------------------+----------+--------------------+\n",
      "|-34986420|       14|            226.14|     16250|[-3.498642E7,14.0...|\n",
      "|-30405240|       10|             153.0|     17714|[-3.040524E7,10.0...|\n",
      "|-31652640|       14|            157.09|     17128|[-3.165264E7,14.0...|\n",
      "|-30314820|       32|           2661.24|     14439|[-3.031482E7,32.0...|\n",
      "|-34071480|       29|110.91000000000001|     17917|[-3.407148E7,29.0...|\n",
      "|-31219380|       39| 430.6999999999999|     18106|[-3.121938E7,39.0...|\n",
      "|-34900920|       17|208.96999999999997|     17855|[-3.490092E7,17.0...|\n",
      "|-31909740|        2|             143.0|     12386|[-3.190974E7,2.0,...|\n",
      "|-31566240|        3|            -62.13|     13672|[-3.156624E7,3.0,...|\n",
      "|-31479660|        1|               8.5|     15107|[-3.147966E7,1.0,...|\n",
      "|-31528260|        1|             175.2|     15100|[-3.152826E7,1.0,...|\n",
      "|-31438020|       31|            346.04|     13126|[-3.143802E7,31.0...|\n",
      "|-34552200|        4|             56.25|     15899|[-3.45522E7,4.0,5...|\n",
      "|-34588500|        1| 76.32000000000001|     18113|[-3.45885E7,1.0,7...|\n",
      "|-34377000|       22|157.60000000000002|     16081|[-3.4377E7,22.0,1...|\n",
      "|-31439460|        3|110.94999999999999|     13144|[-3.143946E7,3.0,...|\n",
      "|-31437180|        2|             -11.5|     14295|[-3.143718E7,2.0,...|\n",
      "|-34814220|       15|            1368.4|     12967|[-3.481422E7,15.0...|\n",
      "|-30749700|        1| 76.32000000000001|     14090|[-3.07497E7,1.0,7...|\n",
      "|-30058200|       24|            556.46|     17311|[-3.00582E7,24.0,...|\n",
      "+---------+---------+------------------+----------+--------------------+\n",
      "only showing top 20 rows\n",
      "\n"
     ]
    }
   ],
   "source": [
    "assembled_data.show()"
   ]
  },
  {
   "cell_type": "code",
   "execution_count": 164,
   "id": "dac4831f",
   "metadata": {},
   "outputs": [],
   "source": [
    "scale = StandardScaler(inputCol='features',outputCol='standardized')"
   ]
  },
  {
   "cell_type": "code",
   "execution_count": 165,
   "id": "eaaf0aae",
   "metadata": {},
   "outputs": [],
   "source": [
    "data_scale = scale.fit(assembled_data)"
   ]
  },
  {
   "cell_type": "code",
   "execution_count": 166,
   "id": "0014bcaf",
   "metadata": {},
   "outputs": [],
   "source": [
    "data_scale_output = data_scale.transform(assembled_data)"
   ]
  },
  {
   "cell_type": "code",
   "execution_count": 167,
   "id": "20bb2de3",
   "metadata": {},
   "outputs": [
    {
     "name": "stdout",
     "output_type": "stream",
     "text": [
      "+------------------------------------------------------------+\n",
      "|standardized                                                |\n",
      "+------------------------------------------------------------+\n",
      "|[-3.850421325659505,0.47388303351222694,0.06990750209786561]|\n",
      "|[-3.346240755921738,0.33848788108016215,0.0472974609576963] |\n",
      "+------------------------------------------------------------+\n",
      "only showing top 2 rows\n",
      "\n"
     ]
    }
   ],
   "source": [
    "data_scale_output.select('standardized').show(2,truncate=False)"
   ]
  },
  {
   "cell_type": "code",
   "execution_count": 168,
   "id": "1127867f",
   "metadata": {},
   "outputs": [],
   "source": [
    "from pyspark.ml.clustering import KMeans\n",
    "from pyspark.ml.evaluation import ClusteringEvaluator\n",
    "import numpy as np"
   ]
  },
  {
   "cell_type": "code",
   "execution_count": 169,
   "id": "af4f2c19",
   "metadata": {},
   "outputs": [],
   "source": [
    "cost=np.zeros(10)"
   ]
  },
  {
   "cell_type": "code",
   "execution_count": 170,
   "id": "3fea6de2",
   "metadata": {},
   "outputs": [],
   "source": [
    "evalator = ClusteringEvaluator(predictionCol='prediction',featuresCol='standardized',\n",
    "                               metricName='silhouette',distanceMeasure='squaredEuclidean')\n"
   ]
  },
  {
   "cell_type": "code",
   "execution_count": 171,
   "id": "4b512ab1",
   "metadata": {},
   "outputs": [],
   "source": [
    "for i in range(2,10):\n",
    "    KMeans_algo = KMeans(featuresCol='standardized',k=i)\n",
    "    KMeans_fit = KMeans_algo.fit(data_scale_output)\n",
    "    ouput = KMeans_fit.transform(data_scale_output)\n",
    "    cost[i] = KMeans_fit.summary.trainingCost"
   ]
  },
  {
   "cell_type": "code",
   "execution_count": 172,
   "id": "c814d76b",
   "metadata": {},
   "outputs": [
    {
     "data": {
      "text/plain": [
       "array([   0.        ,    0.        , 8636.0565931 , 5912.70900149,\n",
       "       3334.00952471, 2759.93159885, 1955.96409594, 1568.7953526 ,\n",
       "       1906.64000851, 1603.23474711])"
      ]
     },
     "execution_count": 172,
     "metadata": {},
     "output_type": "execute_result"
    }
   ],
   "source": [
    "cost"
   ]
  },
  {
   "cell_type": "code",
   "execution_count": 173,
   "id": "3e6efe3f",
   "metadata": {},
   "outputs": [],
   "source": [
    "import pylab as pl"
   ]
  },
  {
   "cell_type": "code",
   "execution_count": 174,
   "id": "756195d7",
   "metadata": {},
   "outputs": [],
   "source": [
    "import pandas as pd"
   ]
  },
  {
   "cell_type": "code",
   "execution_count": 175,
   "id": "8a36f5ac",
   "metadata": {},
   "outputs": [],
   "source": [
    "df_cost = pd.DataFrame(cost[2:])\n",
    "df_cost.columns=['cost']\n",
    "new_col = range(2,10)\n",
    "df_cost.insert(0,'Cluster',new_col)"
   ]
  },
  {
   "cell_type": "code",
   "execution_count": 176,
   "id": "5710d849",
   "metadata": {},
   "outputs": [
    {
     "data": {
      "text/html": [
       "<div>\n",
       "<style scoped>\n",
       "    .dataframe tbody tr th:only-of-type {\n",
       "        vertical-align: middle;\n",
       "    }\n",
       "\n",
       "    .dataframe tbody tr th {\n",
       "        vertical-align: top;\n",
       "    }\n",
       "\n",
       "    .dataframe thead th {\n",
       "        text-align: right;\n",
       "    }\n",
       "</style>\n",
       "<table border=\"1\" class=\"dataframe\">\n",
       "  <thead>\n",
       "    <tr style=\"text-align: right;\">\n",
       "      <th></th>\n",
       "      <th>Cluster</th>\n",
       "      <th>cost</th>\n",
       "    </tr>\n",
       "  </thead>\n",
       "  <tbody>\n",
       "    <tr>\n",
       "      <th>0</th>\n",
       "      <td>2</td>\n",
       "      <td>8636.056593</td>\n",
       "    </tr>\n",
       "    <tr>\n",
       "      <th>1</th>\n",
       "      <td>3</td>\n",
       "      <td>5912.709001</td>\n",
       "    </tr>\n",
       "    <tr>\n",
       "      <th>2</th>\n",
       "      <td>4</td>\n",
       "      <td>3334.009525</td>\n",
       "    </tr>\n",
       "    <tr>\n",
       "      <th>3</th>\n",
       "      <td>5</td>\n",
       "      <td>2759.931599</td>\n",
       "    </tr>\n",
       "    <tr>\n",
       "      <th>4</th>\n",
       "      <td>6</td>\n",
       "      <td>1955.964096</td>\n",
       "    </tr>\n",
       "    <tr>\n",
       "      <th>5</th>\n",
       "      <td>7</td>\n",
       "      <td>1568.795353</td>\n",
       "    </tr>\n",
       "    <tr>\n",
       "      <th>6</th>\n",
       "      <td>8</td>\n",
       "      <td>1906.640009</td>\n",
       "    </tr>\n",
       "    <tr>\n",
       "      <th>7</th>\n",
       "      <td>9</td>\n",
       "      <td>1603.234747</td>\n",
       "    </tr>\n",
       "  </tbody>\n",
       "</table>\n",
       "</div>"
      ],
      "text/plain": [
       "   Cluster         cost\n",
       "0        2  8636.056593\n",
       "1        3  5912.709001\n",
       "2        4  3334.009525\n",
       "3        5  2759.931599\n",
       "4        6  1955.964096\n",
       "5        7  1568.795353\n",
       "6        8  1906.640009\n",
       "7        9  1603.234747"
      ]
     },
     "execution_count": 176,
     "metadata": {},
     "output_type": "execute_result"
    }
   ],
   "source": [
    "df_cost"
   ]
  },
  {
   "cell_type": "code",
   "execution_count": 177,
   "id": "574e16f9",
   "metadata": {},
   "outputs": [
    {
     "data": {
      "image/png": "[encoded data removed]",
      "text/plain": [
       "<Figure size 432x288 with 1 Axes>"
      ]
     },
     "metadata": {
      "needs_background": "light"
     },
     "output_type": "display_data"
    }
   ],
   "source": [
    "pl.plot(df_cost.Cluster,df_cost.cost)\n",
    "pl.xlabel('number of clusters')\n",
    "pl.ylabel('score')\n",
    "pl.title('Elbow curve')\n",
    "pl.show()"
   ]
  },
  {
   "cell_type": "code",
   "execution_count": 178,
   "id": "e9eb6653",
   "metadata": {},
   "outputs": [],
   "source": [
    "KMeans_algo = KMeans(featuresCol='standardized',k=4)\n",
    "KMeans_fit  = KMeans_algo.fit(data_scale_output)"
   ]
  },
  {
   "cell_type": "code",
   "execution_count": 179,
   "id": "e73ae335",
   "metadata": {},
   "outputs": [],
   "source": [
    "preds = KMeans_fit.transform(data_scale_output)"
   ]
  },
  {
   "cell_type": "code",
   "execution_count": 180,
   "id": "d7614afb",
   "metadata": {},
   "outputs": [
    {
     "name": "stdout",
     "output_type": "stream",
     "text": [
      "+---------+---------+------------------+----------+--------------------+--------------------+----------+\n",
      "|  recency|frequency|    monetary_value|CustomerID|            features|        standardized|prediction|\n",
      "+---------+---------+------------------+----------+--------------------+--------------------+----------+\n",
      "|-34986420|       14|            226.14|     16250|[-3.498642E7,14.0...|[-3.8504213256595...|         1|\n",
      "|-30405240|       10|             153.0|     17714|[-3.040524E7,10.0...|[-3.3462407559217...|         1|\n",
      "|-31652640|       14|            157.09|     17128|[-3.165264E7,14.0...|[-3.4835230374934...|         1|\n",
      "|-30314820|       32|           2661.24|     14439|[-3.031482E7,32.0...|[-3.3362896064109...|         1|\n",
      "|-34071480|       29|110.91000000000001|     17917|[-3.407148E7,29.0...|[-3.7497278426538...|         1|\n",
      "|-31219380|       39| 430.6999999999999|     18106|[-3.121938E7,39.0...|[-3.4358407212246...|         1|\n",
      "|-34900920|       17|208.96999999999997|     17855|[-3.490092E7,17.0...|[-3.8410116454651...|         1|\n",
      "|-31909740|        2|             143.0|     12386|[-3.190974E7,2.0,...|[-3.5118181109198...|         1|\n",
      "|-31566240|        3|            -62.13|     13672|[-3.156624E7,3.0,...|[-3.4740143080339...|         1|\n",
      "|-31479660|        1|               8.5|     15107|[-3.147966E7,1.0,...|[-3.4644857687214...|         1|\n",
      "|-31528260|        1|             175.2|     15100|[-3.152826E7,1.0,...|[-3.4698344290423...|         1|\n",
      "|-31438020|       31|            346.04|     13126|[-3.143802E7,31.0...|[-3.4599030893846...|         1|\n",
      "|-34552200|        4|             56.25|     15899|[-3.45522E7,4.0,5...|[-3.8026333568410...|         1|\n",
      "|-34588500|        1| 76.32000000000001|     18113|[-3.45885E7,1.0,7...|[-3.8066283438709...|         1|\n",
      "|-34377000|       22|157.60000000000002|     16081|[-3.4377E7,22.0,1...|[-3.7833517665481...|         1|\n",
      "|-31439460|        3|110.94999999999999|     13144|[-3.143946E7,3.0,...|[-3.4600615682090...|         1|\n",
      "|-31437180|        2|             -11.5|     14295|[-3.143718E7,2.0,...|[-3.4598106434038...|         1|\n",
      "|-34814220|       15|            1368.4|     12967|[-3.481422E7,15.0...|[-3.8314698995839...|         1|\n",
      "|-30749700|        1| 76.32000000000001|     14090|[-3.07497E7,1.0,7...|[-3.3841502113572...|         1|\n",
      "|-30058200|       24|            556.46|     17311|[-3.00582E7,24.0,...|[-3.3080473592593...|         1|\n",
      "+---------+---------+------------------+----------+--------------------+--------------------+----------+\n",
      "only showing top 20 rows\n",
      "\n"
     ]
    }
   ],
   "source": [
    "preds.show()"
   ]
  },
  {
   "cell_type": "code",
   "execution_count": 181,
   "id": "10742963",
   "metadata": {},
   "outputs": [
    {
     "data": {
      "image/png": "[encoded data removed]",
      "text/plain": [
       "<Figure size 432x288 with 1 Axes>"
      ]
     },
     "metadata": {
      "needs_background": "light"
     },
     "output_type": "display_data"
    },
    {
     "data": {
      "image/png": "[encoded data removed]",
      "text/plain": [
       "<Figure size 432x288 with 1 Axes>"
      ]
     },
     "metadata": {
      "needs_background": "light"
     },
     "output_type": "display_data"
    },
    {
     "data": {
      "image/png": "[encoded data removed]",
      "text/plain": [
       "<Figure size 432x288 with 1 Axes>"
      ]
     },
     "metadata": {
      "needs_background": "light"
     },
     "output_type": "display_data"
    }
   ],
   "source": [
    "import matplotlib.pyplot as plt\n",
    "import seaborn as sns\n",
    "df_viz = preds.select(['recency','monetary_value','frequency','prediction'])\n",
    "df_viz = df_viz.toPandas()\n",
    "avg_df = df_viz.groupby(['prediction'],as_index=False).mean()\n",
    "list1 = ['recency','monetary_value','frequency']\n",
    "for i in list1:\n",
    "    sns.barplot(x='prediction',y=str(i),data=avg_df)\n",
    "    plt.show()"
   ]
  },
  {
   "cell_type": "code",
   "execution_count": null,
   "id": "8726ff3f",
   "metadata": {},
   "outputs": [],
   "source": []
  }
 ],
 "metadata": {
  "kernelspec": {
   "display_name": "Python 3",
   "language": "python",
   "name": "python3"
  },
  "language_info": {
   "codemirror_mode": {
    "name": "ipython",
    "version": 3
   },
   "file_extension": ".py",
   "mimetype": "text/x-python",
   "name": "python",
   "nbconvert_exporter": "python",
   "pygments_lexer": "ipython3",
   "version": "3.8.8"
  }
 },
 "nbformat": 4,
 "nbformat_minor": 5
}
